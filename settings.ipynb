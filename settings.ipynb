{
 "cells": [
  {
   "cell_type": "markdown",
   "metadata": {},
   "source": [
    "# env_006\n",
    "\n",
    "### Create a Conda environment\n",
    "\n",
    "~~~\n",
    "conda create -n env_006 python anaconda\n",
    "conda activate env_006\n",
    "conda install -c anaconda django\n",
    "~~~\n",
    "\n",
    "### Start Django Project\n",
    "\n",
    "`django-admin startproject django_bank`\n",
    "\n",
    "### Initiate git\n",
    "\n",
    "~~~\n",
    "git init\n",
    "rm -rf .git\n",
    "git init -b main\n",
    "git status\n",
    "git add .\n",
    "git commit -m 'init django project'\n",
    "~~~\n",
    "\n",
    "### Run server\n",
    "\n",
    "`python manage.py runserver`\n",
    "\n",
    "\n",
    "\n"
   ]
  },
  {
   "cell_type": "markdown",
   "metadata": {},
   "source": []
  }
 ],
 "metadata": {
  "language_info": {
   "name": "python"
  }
 },
 "nbformat": 4,
 "nbformat_minor": 2
}
