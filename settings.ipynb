{
 "cells": [
  {
   "cell_type": "markdown",
   "metadata": {},
   "source": [
    "# WHERE I AM?\n",
    "\n",
    "HERE --> https://docs.djangoproject.com/en/5.0/intro/tutorial02/\n",
    "\n",
    "AT `Creating models` ~ `Activating models`"
   ]
  },
  {
   "cell_type": "markdown",
   "metadata": {},
   "source": [
    "# env_006\n",
    "\n",
    "### Create a Conda environment\n",
    "\n",
    "~~~\n",
    "conda create -n env_006 python anaconda\n",
    "conda activate env_006\n",
    "conda install -c anaconda django\n",
    "~~~\n",
    "\n",
    "### Start Django Project\n",
    "\n",
    "`django-admin startproject django_bank`\n",
    "\n",
    "### Initiate git\n",
    "\n",
    "~~~\n",
    "git init\n",
    "rm -rf .git\n",
    "git init -b main\n",
    "git status\n",
    "git add .\n",
    "git commit -m 'init django project'\n",
    "git remote add origin https://github.com/inesgcalvo/django_bank.git\n",
    "~~~\n",
    "\n",
    "### Run server\n",
    "\n",
    "`python manage.py runserver`\n",
    "\n",
    "### Creating the Polls app\n",
    "\n",
    "`python manage.py startapp poll`\n",
    "\n",
    "    polls/\n",
    "        __init__.py\n",
    "        admin.py\n",
    "        apps.py\n",
    "        migrations/\n",
    "            __init__.py\n",
    "        models.py\n",
    "        tests.py\n",
    "        views.py\n"
   ]
  }
 ],
 "metadata": {
  "language_info": {
   "name": "python"
  }
 },
 "nbformat": 4,
 "nbformat_minor": 2
}
